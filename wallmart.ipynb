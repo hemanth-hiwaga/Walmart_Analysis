{
 "cells": [
  {
   "cell_type": "code",
   "execution_count": 23,
   "metadata": {},
   "outputs": [],
   "source": [
    "import pandas as pd\n",
    "import pymysql\n",
    "from sqlalchemy import create_engine"
   ]
  },
  {
   "cell_type": "code",
   "execution_count": 24,
   "metadata": {},
   "outputs": [
    {
     "data": {
      "application/vnd.microsoft.datawrangler.viewer.v0+json": {
       "columns": [
        {
         "name": "index",
         "rawType": "int64",
         "type": "integer"
        },
        {
         "name": "invoice_id",
         "rawType": "int64",
         "type": "integer"
        },
        {
         "name": "Branch",
         "rawType": "object",
         "type": "string"
        },
        {
         "name": "City",
         "rawType": "object",
         "type": "string"
        },
        {
         "name": "category",
         "rawType": "object",
         "type": "string"
        },
        {
         "name": "unit_price",
         "rawType": "object",
         "type": "unknown"
        },
        {
         "name": "quantity",
         "rawType": "float64",
         "type": "float"
        },
        {
         "name": "date",
         "rawType": "object",
         "type": "string"
        },
        {
         "name": "time",
         "rawType": "object",
         "type": "string"
        },
        {
         "name": "payment_method",
         "rawType": "object",
         "type": "string"
        },
        {
         "name": "rating",
         "rawType": "float64",
         "type": "float"
        },
        {
         "name": "profit_margin",
         "rawType": "float64",
         "type": "float"
        }
       ],
       "conversionMethod": "pd.DataFrame",
       "ref": "7298dadc-9114-4e5b-8415-ded1084e2559",
       "rows": [
        [
         "0",
         "1",
         "WALM003",
         "San Antonio",
         "Health and beauty",
         "$74.69",
         "7.0",
         "05/01/19",
         "13:08:00",
         "Ewallet",
         "9.1",
         "0.48"
        ],
        [
         "1",
         "2",
         "WALM048",
         "Harlingen",
         "Electronic accessories",
         "$15.28",
         "5.0",
         "08/03/19",
         "10:29:00",
         "Cash",
         "9.6",
         "0.48"
        ],
        [
         "2",
         "3",
         "WALM067",
         "Haltom City",
         "Home and lifestyle",
         "$46.33",
         "7.0",
         "03/03/19",
         "13:23:00",
         "Credit card",
         "7.4",
         "0.33"
        ],
        [
         "3",
         "4",
         "WALM064",
         "Bedford",
         "Health and beauty",
         "$58.22",
         "8.0",
         "27/01/19",
         "20:33:00",
         "Ewallet",
         "8.4",
         "0.33"
        ],
        [
         "4",
         "5",
         "WALM013",
         "Irving",
         "Sports and travel",
         "$86.31",
         "7.0",
         "08/02/19",
         "10:37:00",
         "Ewallet",
         "5.3",
         "0.48"
        ],
        [
         "5",
         "6",
         "WALM026",
         "Denton",
         "Electronic accessories",
         "$85.39",
         "7.0",
         "25/03/19",
         "18:30:00",
         "Ewallet",
         "4.1",
         "0.48"
        ],
        [
         "6",
         "7",
         "WALM088",
         "Cleburne",
         "Electronic accessories",
         "$68.84",
         "6.0",
         "25/02/19",
         "14:36:00",
         "Ewallet",
         "5.8",
         "0.33"
        ],
        [
         "7",
         "8",
         "WALM100",
         "Canyon",
         "Home and lifestyle",
         "$73.56",
         "10.0",
         "24/02/19",
         "11:38:00",
         "Ewallet",
         "8.0",
         "0.18"
        ],
        [
         "8",
         "9",
         "WALM066",
         "Grapevine",
         "Health and beauty",
         "$36.26",
         "2.0",
         "10/01/19",
         "17:15:00",
         "Credit card",
         "7.2",
         "0.33"
        ],
        [
         "9",
         "10",
         "WALM065",
         "Texas City",
         "Food and beverages",
         "$54.84",
         "3.0",
         "20/02/19",
         "13:27:00",
         "Credit card",
         "5.9",
         "0.33"
        ],
        [
         "10",
         "11",
         "WALM013",
         "Irving",
         "Fashion accessories",
         "$14.48",
         "4.0",
         "06/02/19",
         "18:07:00",
         "Ewallet",
         "4.5",
         "0.48"
        ],
        [
         "11",
         "12",
         "WALM035",
         "San Angelo",
         "Electronic accessories",
         "$25.51",
         "4.0",
         "09/03/19",
         "17:03:00",
         "Cash",
         "6.8",
         "0.48"
        ],
        [
         "12",
         "13",
         "WALM027",
         "Abilene",
         "Electronic accessories",
         "$46.95",
         "5.0",
         "12/02/19",
         "10:25:00",
         "Ewallet",
         "7.1",
         "0.48"
        ],
        [
         "13",
         "14",
         "WALM035",
         "San Angelo",
         "Food and beverages",
         "$43.19",
         "10.0",
         "07/02/19",
         "16:48:00",
         "Ewallet",
         "8.2",
         "0.48"
        ],
        [
         "14",
         "15",
         "WALM031",
         "Lewisville",
         "Health and beauty",
         "$71.38",
         "10.0",
         "29/03/19",
         "19:21:00",
         "Cash",
         "5.7",
         "0.48"
        ],
        [
         "15",
         "16",
         "WALM008",
         "Corpus Christi",
         "Sports and travel",
         "$93.72",
         "6.0",
         "15/01/19",
         "16:19:00",
         "Cash",
         "4.5",
         "0.48"
        ],
        [
         "16",
         "17",
         "WALM029",
         "Round Rock",
         "Health and beauty",
         "$68.93",
         "7.0",
         "11/03/19",
         "11:03:00",
         "Credit card",
         "4.6",
         "0.48"
        ],
        [
         "17",
         "18",
         "WALM061",
         "Cedar Park",
         "Sports and travel",
         "$72.61",
         "6.0",
         "01/01/19",
         "10:39:00",
         "Credit card",
         "6.9",
         "0.33"
        ],
        [
         "18",
         "19",
         "WALM053",
         "Conroe",
         "Food and beverages",
         "$54.67",
         "3.0",
         "21/01/19",
         "18:00:00",
         "Credit card",
         "8.6",
         "0.57"
        ],
        [
         "19",
         "20",
         "WALM013",
         "Irving",
         "Home and lifestyle",
         "$40.3",
         "2.0",
         "11/03/19",
         "15:30:00",
         "Ewallet",
         "4.4",
         "0.48"
        ],
        [
         "20",
         "21",
         "WALM044",
         "Pharr",
         "Electronic accessories",
         "$86.04",
         "5.0",
         "25/02/19",
         "11:24:00",
         "Ewallet",
         "4.8",
         "0.48"
        ],
        [
         "21",
         "22",
         "WALM088",
         "Cleburne",
         "Health and beauty",
         "$87.98",
         "3.0",
         "05/03/19",
         "10:40:00",
         "Ewallet",
         "5.1",
         "0.33"
        ],
        [
         "22",
         "23",
         "WALM083",
         "Farmers Branch",
         "Home and lifestyle",
         "$33.2",
         "2.0",
         "15/03/19",
         "12:20:00",
         "Credit card",
         "4.4",
         "0.33"
        ],
        [
         "23",
         "24",
         "WALM067",
         "Haltom City",
         "Electronic accessories",
         "$34.56",
         "5.0",
         "17/02/19",
         "11:15:00",
         "Ewallet",
         "9.9",
         "0.33"
        ],
        [
         "24",
         "25",
         "WALM023",
         "Midland",
         "Sports and travel",
         "$88.63",
         "3.0",
         "02/03/19",
         "17:36:00",
         "Ewallet",
         "6.0",
         "0.48"
        ],
        [
         "25",
         "26",
         "WALM001",
         "Houston",
         "Home and lifestyle",
         "$52.59",
         "8.0",
         "22/03/19",
         "19:20:00",
         "Credit card",
         "8.5",
         "0.36"
        ],
        [
         "26",
         "27",
         "WALM072",
         "Lancaster",
         "Fashion accessories",
         "$33.52",
         "1.0",
         "08/02/19",
         "15:31:00",
         "Cash",
         "6.7",
         "0.33"
        ],
        [
         "27",
         "28",
         "WALM046",
         "Temple",
         "Fashion accessories",
         "$87.67",
         "2.0",
         "10/03/19",
         "12:17:00",
         "Credit card",
         "7.7",
         "0.48"
        ],
        [
         "28",
         "29",
         "WALM012",
         "Garland",
         "Food and beverages",
         "$88.36",
         "5.0",
         "25/01/19",
         "19:48:00",
         "Cash",
         "9.6",
         "0.48"
        ],
        [
         "29",
         "30",
         "WALM075",
         "San Marcos",
         "Health and beauty",
         "$24.89",
         "9.0",
         "15/03/19",
         "15:36:00",
         "Cash",
         "7.4",
         "0.33"
        ],
        [
         "30",
         "31",
         "WALM076",
         "Huntsville",
         "Fashion accessories",
         "$94.13",
         "5.0",
         "25/02/19",
         "19:39:00",
         "Credit card",
         "4.8",
         "0.33"
        ],
        [
         "31",
         "32",
         "WALM098",
         "Mineral Wells",
         "Sports and travel",
         "$78.07",
         "9.0",
         "28/01/19",
         "12:43:00",
         "Cash",
         "4.5",
         "0.18"
        ],
        [
         "32",
         "33",
         "WALM021",
         "McAllen",
         "Sports and travel",
         "$83.78",
         "8.0",
         "10/01/19",
         "14:49:00",
         "Cash",
         "5.1",
         "0.48"
        ],
        [
         "33",
         "34",
         "WALM096",
         "Eagle Pass",
         "Health and beauty",
         "$96.58",
         "2.0",
         "15/03/19",
         "10:12:00",
         "Credit card",
         "5.1",
         "0.18"
        ],
        [
         "34",
         "35",
         "WALM022",
         "Mesquite",
         "Food and beverages",
         "$99.42",
         "4.0",
         "06/02/19",
         "10:42:00",
         "Ewallet",
         "7.5",
         "0.48"
        ],
        [
         "35",
         "36",
         "WALM095",
         "Big Spring",
         "Sports and travel",
         "$68.12",
         "1.0",
         "07/01/19",
         "12:28:00",
         "Ewallet",
         "6.8",
         "0.33"
        ],
        [
         "36",
         "37",
         "WALM041",
         "Mission",
         "Sports and travel",
         "$62.62",
         "5.0",
         "10/03/19",
         "19:15:00",
         "Ewallet",
         "7.0",
         "0.48"
        ],
        [
         "37",
         "38",
         "WALM070",
         "Hurst",
         "Electronic accessories",
         "$60.88",
         "9.0",
         "15/01/19",
         "17:17:00",
         "Ewallet",
         "4.7",
         "0.33"
        ],
        [
         "38",
         "39",
         "WALM070",
         "Hurst",
         "Health and beauty",
         "$54.92",
         "8.0",
         "23/03/19",
         "13:24:00",
         "Ewallet",
         "7.6",
         "0.33"
        ],
        [
         "39",
         "40",
         "WALM030",
         "Richardson",
         "Home and lifestyle",
         "$30.12",
         "8.0",
         "03/03/19",
         "13:01:00",
         "Cash",
         "7.7",
         "0.48"
        ],
        [
         "40",
         "41",
         "WALM033",
         "Pearland",
         "Home and lifestyle",
         "$86.72",
         "1.0",
         "17/01/19",
         "18:45:00",
         "Ewallet",
         "7.9",
         "0.48"
        ],
        [
         "41",
         "42",
         "WALM088",
         "Cleburne",
         "Home and lifestyle",
         "$56.11",
         "2.0",
         "02/02/19",
         "10:11:00",
         "Cash",
         "6.3",
         "0.33"
        ],
        [
         "42",
         "43",
         "WALM079",
         "La Porte",
         "Sports and travel",
         "$69.12",
         "6.0",
         "08/02/19",
         "13:03:00",
         "Cash",
         "5.6",
         "0.33"
        ],
        [
         "43",
         "44",
         "WALM042",
         "Bryan",
         "Food and beverages",
         "$98.7",
         "8.0",
         "04/03/19",
         "20:39:00",
         "Cash",
         "7.6",
         "0.48"
        ],
        [
         "44",
         "45",
         "WALM036",
         "Allen",
         "Health and beauty",
         "$15.37",
         "2.0",
         "16/03/19",
         "19:47:00",
         "Cash",
         "7.2",
         "0.48"
        ],
        [
         "45",
         "46",
         "WALM056",
         "Rowlett",
         "Electronic accessories",
         "$93.96",
         "4.0",
         "09/03/19",
         "18:00:00",
         "Cash",
         "9.5",
         "0.33"
        ],
        [
         "46",
         "47",
         "WALM058",
         "Port Arthur",
         "Health and beauty",
         "$56.69",
         "9.0",
         "27/02/19",
         "17:24:00",
         "Credit card",
         "8.4",
         "0.33"
        ],
        [
         "47",
         "48",
         "WALM015",
         "Grand Prairie",
         "Food and beverages",
         "$20.01",
         "9.0",
         "06/02/19",
         "15:47:00",
         "Ewallet",
         "4.1",
         "0.48"
        ],
        [
         "48",
         "49",
         "WALM063",
         "Georgetown",
         "Electronic accessories",
         "$18.93",
         "6.0",
         "10/02/19",
         "12:45:00",
         "Credit card",
         "8.1",
         "0.33"
        ],
        [
         "49",
         "50",
         "WALM021",
         "McAllen",
         "Fashion accessories",
         "$82.63",
         "10.0",
         "19/03/19",
         "17:08:00",
         "Ewallet",
         "7.9",
         "0.48"
        ]
       ],
       "shape": {
        "columns": 11,
        "rows": 10051
       }
      },
      "text/html": [
       "<div>\n",
       "<style scoped>\n",
       "    .dataframe tbody tr th:only-of-type {\n",
       "        vertical-align: middle;\n",
       "    }\n",
       "\n",
       "    .dataframe tbody tr th {\n",
       "        vertical-align: top;\n",
       "    }\n",
       "\n",
       "    .dataframe thead th {\n",
       "        text-align: right;\n",
       "    }\n",
       "</style>\n",
       "<table border=\"1\" class=\"dataframe\">\n",
       "  <thead>\n",
       "    <tr style=\"text-align: right;\">\n",
       "      <th></th>\n",
       "      <th>invoice_id</th>\n",
       "      <th>Branch</th>\n",
       "      <th>City</th>\n",
       "      <th>category</th>\n",
       "      <th>unit_price</th>\n",
       "      <th>quantity</th>\n",
       "      <th>date</th>\n",
       "      <th>time</th>\n",
       "      <th>payment_method</th>\n",
       "      <th>rating</th>\n",
       "      <th>profit_margin</th>\n",
       "    </tr>\n",
       "  </thead>\n",
       "  <tbody>\n",
       "    <tr>\n",
       "      <th>0</th>\n",
       "      <td>1</td>\n",
       "      <td>WALM003</td>\n",
       "      <td>San Antonio</td>\n",
       "      <td>Health and beauty</td>\n",
       "      <td>$74.69</td>\n",
       "      <td>7.0</td>\n",
       "      <td>05/01/19</td>\n",
       "      <td>13:08:00</td>\n",
       "      <td>Ewallet</td>\n",
       "      <td>9.1</td>\n",
       "      <td>0.48</td>\n",
       "    </tr>\n",
       "    <tr>\n",
       "      <th>1</th>\n",
       "      <td>2</td>\n",
       "      <td>WALM048</td>\n",
       "      <td>Harlingen</td>\n",
       "      <td>Electronic accessories</td>\n",
       "      <td>$15.28</td>\n",
       "      <td>5.0</td>\n",
       "      <td>08/03/19</td>\n",
       "      <td>10:29:00</td>\n",
       "      <td>Cash</td>\n",
       "      <td>9.6</td>\n",
       "      <td>0.48</td>\n",
       "    </tr>\n",
       "    <tr>\n",
       "      <th>2</th>\n",
       "      <td>3</td>\n",
       "      <td>WALM067</td>\n",
       "      <td>Haltom City</td>\n",
       "      <td>Home and lifestyle</td>\n",
       "      <td>$46.33</td>\n",
       "      <td>7.0</td>\n",
       "      <td>03/03/19</td>\n",
       "      <td>13:23:00</td>\n",
       "      <td>Credit card</td>\n",
       "      <td>7.4</td>\n",
       "      <td>0.33</td>\n",
       "    </tr>\n",
       "    <tr>\n",
       "      <th>3</th>\n",
       "      <td>4</td>\n",
       "      <td>WALM064</td>\n",
       "      <td>Bedford</td>\n",
       "      <td>Health and beauty</td>\n",
       "      <td>$58.22</td>\n",
       "      <td>8.0</td>\n",
       "      <td>27/01/19</td>\n",
       "      <td>20:33:00</td>\n",
       "      <td>Ewallet</td>\n",
       "      <td>8.4</td>\n",
       "      <td>0.33</td>\n",
       "    </tr>\n",
       "    <tr>\n",
       "      <th>4</th>\n",
       "      <td>5</td>\n",
       "      <td>WALM013</td>\n",
       "      <td>Irving</td>\n",
       "      <td>Sports and travel</td>\n",
       "      <td>$86.31</td>\n",
       "      <td>7.0</td>\n",
       "      <td>08/02/19</td>\n",
       "      <td>10:37:00</td>\n",
       "      <td>Ewallet</td>\n",
       "      <td>5.3</td>\n",
       "      <td>0.48</td>\n",
       "    </tr>\n",
       "    <tr>\n",
       "      <th>...</th>\n",
       "      <td>...</td>\n",
       "      <td>...</td>\n",
       "      <td>...</td>\n",
       "      <td>...</td>\n",
       "      <td>...</td>\n",
       "      <td>...</td>\n",
       "      <td>...</td>\n",
       "      <td>...</td>\n",
       "      <td>...</td>\n",
       "      <td>...</td>\n",
       "      <td>...</td>\n",
       "    </tr>\n",
       "    <tr>\n",
       "      <th>10046</th>\n",
       "      <td>9996</td>\n",
       "      <td>WALM056</td>\n",
       "      <td>Rowlett</td>\n",
       "      <td>Fashion accessories</td>\n",
       "      <td>$37</td>\n",
       "      <td>3.0</td>\n",
       "      <td>03/08/23</td>\n",
       "      <td>10:10:00</td>\n",
       "      <td>Cash</td>\n",
       "      <td>3.0</td>\n",
       "      <td>0.33</td>\n",
       "    </tr>\n",
       "    <tr>\n",
       "      <th>10047</th>\n",
       "      <td>9997</td>\n",
       "      <td>WALM030</td>\n",
       "      <td>Richardson</td>\n",
       "      <td>Home and lifestyle</td>\n",
       "      <td>$58</td>\n",
       "      <td>2.0</td>\n",
       "      <td>22/02/21</td>\n",
       "      <td>14:20:00</td>\n",
       "      <td>Cash</td>\n",
       "      <td>7.0</td>\n",
       "      <td>0.48</td>\n",
       "    </tr>\n",
       "    <tr>\n",
       "      <th>10048</th>\n",
       "      <td>9998</td>\n",
       "      <td>WALM050</td>\n",
       "      <td>Victoria</td>\n",
       "      <td>Fashion accessories</td>\n",
       "      <td>$52</td>\n",
       "      <td>3.0</td>\n",
       "      <td>15/06/23</td>\n",
       "      <td>16:00:00</td>\n",
       "      <td>Credit card</td>\n",
       "      <td>4.0</td>\n",
       "      <td>0.48</td>\n",
       "    </tr>\n",
       "    <tr>\n",
       "      <th>10049</th>\n",
       "      <td>9999</td>\n",
       "      <td>WALM032</td>\n",
       "      <td>Tyler</td>\n",
       "      <td>Home and lifestyle</td>\n",
       "      <td>$79</td>\n",
       "      <td>2.0</td>\n",
       "      <td>25/02/21</td>\n",
       "      <td>12:25:00</td>\n",
       "      <td>Cash</td>\n",
       "      <td>7.0</td>\n",
       "      <td>0.48</td>\n",
       "    </tr>\n",
       "    <tr>\n",
       "      <th>10050</th>\n",
       "      <td>10000</td>\n",
       "      <td>WALM069</td>\n",
       "      <td>Rockwall</td>\n",
       "      <td>Fashion accessories</td>\n",
       "      <td>$62</td>\n",
       "      <td>3.0</td>\n",
       "      <td>26/09/20</td>\n",
       "      <td>9:48:00</td>\n",
       "      <td>Cash</td>\n",
       "      <td>3.0</td>\n",
       "      <td>0.33</td>\n",
       "    </tr>\n",
       "  </tbody>\n",
       "</table>\n",
       "<p>10051 rows × 11 columns</p>\n",
       "</div>"
      ],
      "text/plain": [
       "       invoice_id   Branch         City                category unit_price  \\\n",
       "0               1  WALM003  San Antonio       Health and beauty     $74.69   \n",
       "1               2  WALM048    Harlingen  Electronic accessories     $15.28   \n",
       "2               3  WALM067  Haltom City      Home and lifestyle     $46.33   \n",
       "3               4  WALM064      Bedford       Health and beauty     $58.22   \n",
       "4               5  WALM013       Irving       Sports and travel     $86.31   \n",
       "...           ...      ...          ...                     ...        ...   \n",
       "10046        9996  WALM056      Rowlett     Fashion accessories        $37   \n",
       "10047        9997  WALM030   Richardson      Home and lifestyle        $58   \n",
       "10048        9998  WALM050     Victoria     Fashion accessories        $52   \n",
       "10049        9999  WALM032        Tyler      Home and lifestyle        $79   \n",
       "10050       10000  WALM069     Rockwall     Fashion accessories        $62   \n",
       "\n",
       "       quantity      date      time payment_method  rating  profit_margin  \n",
       "0           7.0  05/01/19  13:08:00        Ewallet     9.1           0.48  \n",
       "1           5.0  08/03/19  10:29:00           Cash     9.6           0.48  \n",
       "2           7.0  03/03/19  13:23:00    Credit card     7.4           0.33  \n",
       "3           8.0  27/01/19  20:33:00        Ewallet     8.4           0.33  \n",
       "4           7.0  08/02/19  10:37:00        Ewallet     5.3           0.48  \n",
       "...         ...       ...       ...            ...     ...            ...  \n",
       "10046       3.0  03/08/23  10:10:00           Cash     3.0           0.33  \n",
       "10047       2.0  22/02/21  14:20:00           Cash     7.0           0.48  \n",
       "10048       3.0  15/06/23  16:00:00    Credit card     4.0           0.48  \n",
       "10049       2.0  25/02/21  12:25:00           Cash     7.0           0.48  \n",
       "10050       3.0  26/09/20   9:48:00           Cash     3.0           0.33  \n",
       "\n",
       "[10051 rows x 11 columns]"
      ]
     },
     "execution_count": 24,
     "metadata": {},
     "output_type": "execute_result"
    }
   ],
   "source": [
    "df = pd.read_csv(r\"D:\\projects\\datasets\\Walmart.csv\", encoding_errors= 'ignore')\n",
    "df"
   ]
  },
  {
   "cell_type": "code",
   "execution_count": 25,
   "metadata": {},
   "outputs": [
    {
     "data": {
      "text/plain": [
       "(10051, 11)"
      ]
     },
     "execution_count": 25,
     "metadata": {},
     "output_type": "execute_result"
    }
   ],
   "source": [
    "df.shape"
   ]
  },
  {
   "cell_type": "code",
   "execution_count": 26,
   "metadata": {},
   "outputs": [
    {
     "name": "stdout",
     "output_type": "stream",
     "text": [
      "<class 'pandas.core.frame.DataFrame'>\n",
      "RangeIndex: 10051 entries, 0 to 10050\n",
      "Data columns (total 11 columns):\n",
      " #   Column          Non-Null Count  Dtype  \n",
      "---  ------          --------------  -----  \n",
      " 0   invoice_id      10051 non-null  int64  \n",
      " 1   Branch          10051 non-null  object \n",
      " 2   City            10051 non-null  object \n",
      " 3   category        10051 non-null  object \n",
      " 4   unit_price      10020 non-null  object \n",
      " 5   quantity        10020 non-null  float64\n",
      " 6   date            10051 non-null  object \n",
      " 7   time            10051 non-null  object \n",
      " 8   payment_method  10051 non-null  object \n",
      " 9   rating          10051 non-null  float64\n",
      " 10  profit_margin   10051 non-null  float64\n",
      "dtypes: float64(3), int64(1), object(7)\n",
      "memory usage: 863.9+ KB\n"
     ]
    }
   ],
   "source": [
    "df.info()"
   ]
  },
  {
   "cell_type": "code",
   "execution_count": 27,
   "metadata": {},
   "outputs": [
    {
     "data": {
      "application/vnd.microsoft.datawrangler.viewer.v0+json": {
       "columns": [
        {
         "name": "index",
         "rawType": "object",
         "type": "string"
        },
        {
         "name": "invoice_id",
         "rawType": "float64",
         "type": "float"
        },
        {
         "name": "quantity",
         "rawType": "float64",
         "type": "float"
        },
        {
         "name": "rating",
         "rawType": "float64",
         "type": "float"
        },
        {
         "name": "profit_margin",
         "rawType": "float64",
         "type": "float"
        }
       ],
       "conversionMethod": "pd.DataFrame",
       "ref": "173bd771-e67e-4bec-ae60-4b439f10285a",
       "rows": [
        [
         "count",
         "10051.0",
         "10020.0",
         "10051.0",
         "10051.0"
        ],
        [
         "mean",
         "5025.741219779126",
         "2.353493013972056",
         "5.825659138394189",
         "0.3937906675952642"
        ],
        [
         "std",
         "2901.1743724043517",
         "1.6026579798915925",
         "1.763990628132888",
         "0.09066892130169273"
        ],
        [
         "min",
         "1.0",
         "1.0",
         "3.0",
         "0.18"
        ],
        [
         "25%",
         "2513.5",
         "1.0",
         "4.0",
         "0.33"
        ],
        [
         "50%",
         "5026.0",
         "2.0",
         "6.0",
         "0.33"
        ],
        [
         "75%",
         "7538.5",
         "3.0",
         "7.0",
         "0.48"
        ],
        [
         "max",
         "10000.0",
         "10.0",
         "10.0",
         "0.57"
        ]
       ],
       "shape": {
        "columns": 4,
        "rows": 8
       }
      },
      "text/html": [
       "<div>\n",
       "<style scoped>\n",
       "    .dataframe tbody tr th:only-of-type {\n",
       "        vertical-align: middle;\n",
       "    }\n",
       "\n",
       "    .dataframe tbody tr th {\n",
       "        vertical-align: top;\n",
       "    }\n",
       "\n",
       "    .dataframe thead th {\n",
       "        text-align: right;\n",
       "    }\n",
       "</style>\n",
       "<table border=\"1\" class=\"dataframe\">\n",
       "  <thead>\n",
       "    <tr style=\"text-align: right;\">\n",
       "      <th></th>\n",
       "      <th>invoice_id</th>\n",
       "      <th>quantity</th>\n",
       "      <th>rating</th>\n",
       "      <th>profit_margin</th>\n",
       "    </tr>\n",
       "  </thead>\n",
       "  <tbody>\n",
       "    <tr>\n",
       "      <th>count</th>\n",
       "      <td>10051.000000</td>\n",
       "      <td>10020.000000</td>\n",
       "      <td>10051.000000</td>\n",
       "      <td>10051.000000</td>\n",
       "    </tr>\n",
       "    <tr>\n",
       "      <th>mean</th>\n",
       "      <td>5025.741220</td>\n",
       "      <td>2.353493</td>\n",
       "      <td>5.825659</td>\n",
       "      <td>0.393791</td>\n",
       "    </tr>\n",
       "    <tr>\n",
       "      <th>std</th>\n",
       "      <td>2901.174372</td>\n",
       "      <td>1.602658</td>\n",
       "      <td>1.763991</td>\n",
       "      <td>0.090669</td>\n",
       "    </tr>\n",
       "    <tr>\n",
       "      <th>min</th>\n",
       "      <td>1.000000</td>\n",
       "      <td>1.000000</td>\n",
       "      <td>3.000000</td>\n",
       "      <td>0.180000</td>\n",
       "    </tr>\n",
       "    <tr>\n",
       "      <th>25%</th>\n",
       "      <td>2513.500000</td>\n",
       "      <td>1.000000</td>\n",
       "      <td>4.000000</td>\n",
       "      <td>0.330000</td>\n",
       "    </tr>\n",
       "    <tr>\n",
       "      <th>50%</th>\n",
       "      <td>5026.000000</td>\n",
       "      <td>2.000000</td>\n",
       "      <td>6.000000</td>\n",
       "      <td>0.330000</td>\n",
       "    </tr>\n",
       "    <tr>\n",
       "      <th>75%</th>\n",
       "      <td>7538.500000</td>\n",
       "      <td>3.000000</td>\n",
       "      <td>7.000000</td>\n",
       "      <td>0.480000</td>\n",
       "    </tr>\n",
       "    <tr>\n",
       "      <th>max</th>\n",
       "      <td>10000.000000</td>\n",
       "      <td>10.000000</td>\n",
       "      <td>10.000000</td>\n",
       "      <td>0.570000</td>\n",
       "    </tr>\n",
       "  </tbody>\n",
       "</table>\n",
       "</div>"
      ],
      "text/plain": [
       "         invoice_id      quantity        rating  profit_margin\n",
       "count  10051.000000  10020.000000  10051.000000   10051.000000\n",
       "mean    5025.741220      2.353493      5.825659       0.393791\n",
       "std     2901.174372      1.602658      1.763991       0.090669\n",
       "min        1.000000      1.000000      3.000000       0.180000\n",
       "25%     2513.500000      1.000000      4.000000       0.330000\n",
       "50%     5026.000000      2.000000      6.000000       0.330000\n",
       "75%     7538.500000      3.000000      7.000000       0.480000\n",
       "max    10000.000000     10.000000     10.000000       0.570000"
      ]
     },
     "execution_count": 27,
     "metadata": {},
     "output_type": "execute_result"
    }
   ],
   "source": [
    "df.describe()"
   ]
  },
  {
   "cell_type": "code",
   "execution_count": 28,
   "metadata": {},
   "outputs": [
    {
     "data": {
      "text/plain": [
       "51"
      ]
     },
     "execution_count": 28,
     "metadata": {},
     "output_type": "execute_result"
    }
   ],
   "source": [
    "df.duplicated().sum()"
   ]
  },
  {
   "cell_type": "code",
   "execution_count": 29,
   "metadata": {},
   "outputs": [
    {
     "data": {
      "text/plain": [
       "(10000, 11)"
      ]
     },
     "execution_count": 29,
     "metadata": {},
     "output_type": "execute_result"
    }
   ],
   "source": [
    "#removing the duplicates\n",
    "df.drop_duplicates(inplace=True)\n",
    "df.shape"
   ]
  },
  {
   "cell_type": "code",
   "execution_count": 30,
   "metadata": {},
   "outputs": [
    {
     "data": {
      "text/plain": [
       "invoice_id         0\n",
       "Branch             0\n",
       "City               0\n",
       "category           0\n",
       "unit_price        31\n",
       "quantity          31\n",
       "date               0\n",
       "time               0\n",
       "payment_method     0\n",
       "rating             0\n",
       "profit_margin      0\n",
       "dtype: int64"
      ]
     },
     "execution_count": 30,
     "metadata": {},
     "output_type": "execute_result"
    }
   ],
   "source": [
    "df.isnull().sum()"
   ]
  },
  {
   "cell_type": "code",
   "execution_count": 31,
   "metadata": {},
   "outputs": [],
   "source": [
    "#droping the null rows as we dont know the exact quantity and unit_price\n",
    "# which might lead to wrong analysis\n",
    "df.dropna(inplace=True)"
   ]
  },
  {
   "cell_type": "code",
   "execution_count": 32,
   "metadata": {},
   "outputs": [
    {
     "data": {
      "application/vnd.microsoft.datawrangler.viewer.v0+json": {
       "columns": [
        {
         "name": "index",
         "rawType": "int64",
         "type": "integer"
        },
        {
         "name": "invoice_id",
         "rawType": "int64",
         "type": "integer"
        },
        {
         "name": "Branch",
         "rawType": "object",
         "type": "string"
        },
        {
         "name": "City",
         "rawType": "object",
         "type": "string"
        },
        {
         "name": "category",
         "rawType": "object",
         "type": "string"
        },
        {
         "name": "unit_price",
         "rawType": "object",
         "type": "string"
        },
        {
         "name": "quantity",
         "rawType": "float64",
         "type": "float"
        },
        {
         "name": "date",
         "rawType": "object",
         "type": "string"
        },
        {
         "name": "time",
         "rawType": "object",
         "type": "string"
        },
        {
         "name": "payment_method",
         "rawType": "object",
         "type": "string"
        },
        {
         "name": "rating",
         "rawType": "float64",
         "type": "float"
        },
        {
         "name": "profit_margin",
         "rawType": "float64",
         "type": "float"
        }
       ],
       "conversionMethod": "pd.DataFrame",
       "ref": "f526aa97-44d7-4270-bbdd-338874d5d86b",
       "rows": [
        [
         "0",
         "1",
         "WALM003",
         "San Antonio",
         "Health and beauty",
         "$74.69",
         "7.0",
         "05/01/19",
         "13:08:00",
         "Ewallet",
         "9.1",
         "0.48"
        ],
        [
         "1",
         "2",
         "WALM048",
         "Harlingen",
         "Electronic accessories",
         "$15.28",
         "5.0",
         "08/03/19",
         "10:29:00",
         "Cash",
         "9.6",
         "0.48"
        ],
        [
         "2",
         "3",
         "WALM067",
         "Haltom City",
         "Home and lifestyle",
         "$46.33",
         "7.0",
         "03/03/19",
         "13:23:00",
         "Credit card",
         "7.4",
         "0.33"
        ],
        [
         "3",
         "4",
         "WALM064",
         "Bedford",
         "Health and beauty",
         "$58.22",
         "8.0",
         "27/01/19",
         "20:33:00",
         "Ewallet",
         "8.4",
         "0.33"
        ],
        [
         "4",
         "5",
         "WALM013",
         "Irving",
         "Sports and travel",
         "$86.31",
         "7.0",
         "08/02/19",
         "10:37:00",
         "Ewallet",
         "5.3",
         "0.48"
        ]
       ],
       "shape": {
        "columns": 11,
        "rows": 5
       }
      },
      "text/html": [
       "<div>\n",
       "<style scoped>\n",
       "    .dataframe tbody tr th:only-of-type {\n",
       "        vertical-align: middle;\n",
       "    }\n",
       "\n",
       "    .dataframe tbody tr th {\n",
       "        vertical-align: top;\n",
       "    }\n",
       "\n",
       "    .dataframe thead th {\n",
       "        text-align: right;\n",
       "    }\n",
       "</style>\n",
       "<table border=\"1\" class=\"dataframe\">\n",
       "  <thead>\n",
       "    <tr style=\"text-align: right;\">\n",
       "      <th></th>\n",
       "      <th>invoice_id</th>\n",
       "      <th>Branch</th>\n",
       "      <th>City</th>\n",
       "      <th>category</th>\n",
       "      <th>unit_price</th>\n",
       "      <th>quantity</th>\n",
       "      <th>date</th>\n",
       "      <th>time</th>\n",
       "      <th>payment_method</th>\n",
       "      <th>rating</th>\n",
       "      <th>profit_margin</th>\n",
       "    </tr>\n",
       "  </thead>\n",
       "  <tbody>\n",
       "    <tr>\n",
       "      <th>0</th>\n",
       "      <td>1</td>\n",
       "      <td>WALM003</td>\n",
       "      <td>San Antonio</td>\n",
       "      <td>Health and beauty</td>\n",
       "      <td>$74.69</td>\n",
       "      <td>7.0</td>\n",
       "      <td>05/01/19</td>\n",
       "      <td>13:08:00</td>\n",
       "      <td>Ewallet</td>\n",
       "      <td>9.1</td>\n",
       "      <td>0.48</td>\n",
       "    </tr>\n",
       "    <tr>\n",
       "      <th>1</th>\n",
       "      <td>2</td>\n",
       "      <td>WALM048</td>\n",
       "      <td>Harlingen</td>\n",
       "      <td>Electronic accessories</td>\n",
       "      <td>$15.28</td>\n",
       "      <td>5.0</td>\n",
       "      <td>08/03/19</td>\n",
       "      <td>10:29:00</td>\n",
       "      <td>Cash</td>\n",
       "      <td>9.6</td>\n",
       "      <td>0.48</td>\n",
       "    </tr>\n",
       "    <tr>\n",
       "      <th>2</th>\n",
       "      <td>3</td>\n",
       "      <td>WALM067</td>\n",
       "      <td>Haltom City</td>\n",
       "      <td>Home and lifestyle</td>\n",
       "      <td>$46.33</td>\n",
       "      <td>7.0</td>\n",
       "      <td>03/03/19</td>\n",
       "      <td>13:23:00</td>\n",
       "      <td>Credit card</td>\n",
       "      <td>7.4</td>\n",
       "      <td>0.33</td>\n",
       "    </tr>\n",
       "    <tr>\n",
       "      <th>3</th>\n",
       "      <td>4</td>\n",
       "      <td>WALM064</td>\n",
       "      <td>Bedford</td>\n",
       "      <td>Health and beauty</td>\n",
       "      <td>$58.22</td>\n",
       "      <td>8.0</td>\n",
       "      <td>27/01/19</td>\n",
       "      <td>20:33:00</td>\n",
       "      <td>Ewallet</td>\n",
       "      <td>8.4</td>\n",
       "      <td>0.33</td>\n",
       "    </tr>\n",
       "    <tr>\n",
       "      <th>4</th>\n",
       "      <td>5</td>\n",
       "      <td>WALM013</td>\n",
       "      <td>Irving</td>\n",
       "      <td>Sports and travel</td>\n",
       "      <td>$86.31</td>\n",
       "      <td>7.0</td>\n",
       "      <td>08/02/19</td>\n",
       "      <td>10:37:00</td>\n",
       "      <td>Ewallet</td>\n",
       "      <td>5.3</td>\n",
       "      <td>0.48</td>\n",
       "    </tr>\n",
       "  </tbody>\n",
       "</table>\n",
       "</div>"
      ],
      "text/plain": [
       "   invoice_id   Branch         City                category unit_price  \\\n",
       "0           1  WALM003  San Antonio       Health and beauty     $74.69   \n",
       "1           2  WALM048    Harlingen  Electronic accessories     $15.28   \n",
       "2           3  WALM067  Haltom City      Home and lifestyle     $46.33   \n",
       "3           4  WALM064      Bedford       Health and beauty     $58.22   \n",
       "4           5  WALM013       Irving       Sports and travel     $86.31   \n",
       "\n",
       "   quantity      date      time payment_method  rating  profit_margin  \n",
       "0       7.0  05/01/19  13:08:00        Ewallet     9.1           0.48  \n",
       "1       5.0  08/03/19  10:29:00           Cash     9.6           0.48  \n",
       "2       7.0  03/03/19  13:23:00    Credit card     7.4           0.33  \n",
       "3       8.0  27/01/19  20:33:00        Ewallet     8.4           0.33  \n",
       "4       7.0  08/02/19  10:37:00        Ewallet     5.3           0.48  "
      ]
     },
     "execution_count": 32,
     "metadata": {},
     "output_type": "execute_result"
    }
   ],
   "source": [
    "df.head()"
   ]
  },
  {
   "cell_type": "code",
   "execution_count": 33,
   "metadata": {},
   "outputs": [
    {
     "name": "stdout",
     "output_type": "stream",
     "text": [
      "<class 'pandas.core.frame.DataFrame'>\n",
      "Index: 9969 entries, 0 to 9999\n",
      "Data columns (total 11 columns):\n",
      " #   Column          Non-Null Count  Dtype  \n",
      "---  ------          --------------  -----  \n",
      " 0   invoice_id      9969 non-null   int64  \n",
      " 1   Branch          9969 non-null   object \n",
      " 2   City            9969 non-null   object \n",
      " 3   category        9969 non-null   object \n",
      " 4   unit_price      9969 non-null   object \n",
      " 5   quantity        9969 non-null   float64\n",
      " 6   date            9969 non-null   object \n",
      " 7   time            9969 non-null   object \n",
      " 8   payment_method  9969 non-null   object \n",
      " 9   rating          9969 non-null   float64\n",
      " 10  profit_margin   9969 non-null   float64\n",
      "dtypes: float64(3), int64(1), object(7)\n",
      "memory usage: 934.6+ KB\n"
     ]
    }
   ],
   "source": [
    "# fixing the datatypes\n",
    "#checking them using info()\n",
    "df.info()\n"
   ]
  },
  {
   "cell_type": "code",
   "execution_count": 34,
   "metadata": {},
   "outputs": [],
   "source": [
    "#from our observations we noted that \n",
    "# unit_price is  object, we  can change its datatype and before removing $ sign\n",
    "\n",
    "df['unit_price'] = df['unit_price'].str.replace('$','').astype(float)"
   ]
  },
  {
   "cell_type": "code",
   "execution_count": 35,
   "metadata": {},
   "outputs": [
    {
     "name": "stdout",
     "output_type": "stream",
     "text": [
      "<class 'pandas.core.frame.DataFrame'>\n",
      "Index: 9969 entries, 0 to 9999\n",
      "Data columns (total 11 columns):\n",
      " #   Column          Non-Null Count  Dtype  \n",
      "---  ------          --------------  -----  \n",
      " 0   invoice_id      9969 non-null   int64  \n",
      " 1   Branch          9969 non-null   object \n",
      " 2   City            9969 non-null   object \n",
      " 3   category        9969 non-null   object \n",
      " 4   unit_price      9969 non-null   float64\n",
      " 5   quantity        9969 non-null   float64\n",
      " 6   date            9969 non-null   object \n",
      " 7   time            9969 non-null   object \n",
      " 8   payment_method  9969 non-null   object \n",
      " 9   rating          9969 non-null   float64\n",
      " 10  profit_margin   9969 non-null   float64\n",
      "dtypes: float64(4), int64(1), object(6)\n",
      "memory usage: 934.6+ KB\n"
     ]
    },
    {
     "data": {
      "application/vnd.microsoft.datawrangler.viewer.v0+json": {
       "columns": [
        {
         "name": "index",
         "rawType": "int64",
         "type": "integer"
        },
        {
         "name": "invoice_id",
         "rawType": "int64",
         "type": "integer"
        },
        {
         "name": "Branch",
         "rawType": "object",
         "type": "string"
        },
        {
         "name": "City",
         "rawType": "object",
         "type": "string"
        },
        {
         "name": "category",
         "rawType": "object",
         "type": "string"
        },
        {
         "name": "unit_price",
         "rawType": "float64",
         "type": "float"
        },
        {
         "name": "quantity",
         "rawType": "float64",
         "type": "float"
        },
        {
         "name": "date",
         "rawType": "object",
         "type": "string"
        },
        {
         "name": "time",
         "rawType": "object",
         "type": "string"
        },
        {
         "name": "payment_method",
         "rawType": "object",
         "type": "string"
        },
        {
         "name": "rating",
         "rawType": "float64",
         "type": "float"
        },
        {
         "name": "profit_margin",
         "rawType": "float64",
         "type": "float"
        }
       ],
       "conversionMethod": "pd.DataFrame",
       "ref": "8782adc8-f714-4271-bb52-3d949ba7737f",
       "rows": [
        [
         "0",
         "1",
         "WALM003",
         "San Antonio",
         "Health and beauty",
         "74.69",
         "7.0",
         "05/01/19",
         "13:08:00",
         "Ewallet",
         "9.1",
         "0.48"
        ],
        [
         "1",
         "2",
         "WALM048",
         "Harlingen",
         "Electronic accessories",
         "15.28",
         "5.0",
         "08/03/19",
         "10:29:00",
         "Cash",
         "9.6",
         "0.48"
        ],
        [
         "2",
         "3",
         "WALM067",
         "Haltom City",
         "Home and lifestyle",
         "46.33",
         "7.0",
         "03/03/19",
         "13:23:00",
         "Credit card",
         "7.4",
         "0.33"
        ],
        [
         "3",
         "4",
         "WALM064",
         "Bedford",
         "Health and beauty",
         "58.22",
         "8.0",
         "27/01/19",
         "20:33:00",
         "Ewallet",
         "8.4",
         "0.33"
        ],
        [
         "4",
         "5",
         "WALM013",
         "Irving",
         "Sports and travel",
         "86.31",
         "7.0",
         "08/02/19",
         "10:37:00",
         "Ewallet",
         "5.3",
         "0.48"
        ]
       ],
       "shape": {
        "columns": 11,
        "rows": 5
       }
      },
      "text/html": [
       "<div>\n",
       "<style scoped>\n",
       "    .dataframe tbody tr th:only-of-type {\n",
       "        vertical-align: middle;\n",
       "    }\n",
       "\n",
       "    .dataframe tbody tr th {\n",
       "        vertical-align: top;\n",
       "    }\n",
       "\n",
       "    .dataframe thead th {\n",
       "        text-align: right;\n",
       "    }\n",
       "</style>\n",
       "<table border=\"1\" class=\"dataframe\">\n",
       "  <thead>\n",
       "    <tr style=\"text-align: right;\">\n",
       "      <th></th>\n",
       "      <th>invoice_id</th>\n",
       "      <th>Branch</th>\n",
       "      <th>City</th>\n",
       "      <th>category</th>\n",
       "      <th>unit_price</th>\n",
       "      <th>quantity</th>\n",
       "      <th>date</th>\n",
       "      <th>time</th>\n",
       "      <th>payment_method</th>\n",
       "      <th>rating</th>\n",
       "      <th>profit_margin</th>\n",
       "    </tr>\n",
       "  </thead>\n",
       "  <tbody>\n",
       "    <tr>\n",
       "      <th>0</th>\n",
       "      <td>1</td>\n",
       "      <td>WALM003</td>\n",
       "      <td>San Antonio</td>\n",
       "      <td>Health and beauty</td>\n",
       "      <td>74.69</td>\n",
       "      <td>7.0</td>\n",
       "      <td>05/01/19</td>\n",
       "      <td>13:08:00</td>\n",
       "      <td>Ewallet</td>\n",
       "      <td>9.1</td>\n",
       "      <td>0.48</td>\n",
       "    </tr>\n",
       "    <tr>\n",
       "      <th>1</th>\n",
       "      <td>2</td>\n",
       "      <td>WALM048</td>\n",
       "      <td>Harlingen</td>\n",
       "      <td>Electronic accessories</td>\n",
       "      <td>15.28</td>\n",
       "      <td>5.0</td>\n",
       "      <td>08/03/19</td>\n",
       "      <td>10:29:00</td>\n",
       "      <td>Cash</td>\n",
       "      <td>9.6</td>\n",
       "      <td>0.48</td>\n",
       "    </tr>\n",
       "    <tr>\n",
       "      <th>2</th>\n",
       "      <td>3</td>\n",
       "      <td>WALM067</td>\n",
       "      <td>Haltom City</td>\n",
       "      <td>Home and lifestyle</td>\n",
       "      <td>46.33</td>\n",
       "      <td>7.0</td>\n",
       "      <td>03/03/19</td>\n",
       "      <td>13:23:00</td>\n",
       "      <td>Credit card</td>\n",
       "      <td>7.4</td>\n",
       "      <td>0.33</td>\n",
       "    </tr>\n",
       "    <tr>\n",
       "      <th>3</th>\n",
       "      <td>4</td>\n",
       "      <td>WALM064</td>\n",
       "      <td>Bedford</td>\n",
       "      <td>Health and beauty</td>\n",
       "      <td>58.22</td>\n",
       "      <td>8.0</td>\n",
       "      <td>27/01/19</td>\n",
       "      <td>20:33:00</td>\n",
       "      <td>Ewallet</td>\n",
       "      <td>8.4</td>\n",
       "      <td>0.33</td>\n",
       "    </tr>\n",
       "    <tr>\n",
       "      <th>4</th>\n",
       "      <td>5</td>\n",
       "      <td>WALM013</td>\n",
       "      <td>Irving</td>\n",
       "      <td>Sports and travel</td>\n",
       "      <td>86.31</td>\n",
       "      <td>7.0</td>\n",
       "      <td>08/02/19</td>\n",
       "      <td>10:37:00</td>\n",
       "      <td>Ewallet</td>\n",
       "      <td>5.3</td>\n",
       "      <td>0.48</td>\n",
       "    </tr>\n",
       "  </tbody>\n",
       "</table>\n",
       "</div>"
      ],
      "text/plain": [
       "   invoice_id   Branch         City                category  unit_price  \\\n",
       "0           1  WALM003  San Antonio       Health and beauty       74.69   \n",
       "1           2  WALM048    Harlingen  Electronic accessories       15.28   \n",
       "2           3  WALM067  Haltom City      Home and lifestyle       46.33   \n",
       "3           4  WALM064      Bedford       Health and beauty       58.22   \n",
       "4           5  WALM013       Irving       Sports and travel       86.31   \n",
       "\n",
       "   quantity      date      time payment_method  rating  profit_margin  \n",
       "0       7.0  05/01/19  13:08:00        Ewallet     9.1           0.48  \n",
       "1       5.0  08/03/19  10:29:00           Cash     9.6           0.48  \n",
       "2       7.0  03/03/19  13:23:00    Credit card     7.4           0.33  \n",
       "3       8.0  27/01/19  20:33:00        Ewallet     8.4           0.33  \n",
       "4       7.0  08/02/19  10:37:00        Ewallet     5.3           0.48  "
      ]
     },
     "execution_count": 35,
     "metadata": {},
     "output_type": "execute_result"
    }
   ],
   "source": [
    "#checking\n",
    "df.info()\n",
    "df.head()"
   ]
  },
  {
   "cell_type": "code",
   "execution_count": 36,
   "metadata": {},
   "outputs": [],
   "source": [
    "#feature engineering \n",
    "# adding total column by calculating (unit_price * quantity)\n",
    "df['total'] = df['unit_price'] * df['quantity']"
   ]
  },
  {
   "cell_type": "code",
   "execution_count": 37,
   "metadata": {},
   "outputs": [
    {
     "data": {
      "application/vnd.microsoft.datawrangler.viewer.v0+json": {
       "columns": [
        {
         "name": "index",
         "rawType": "int64",
         "type": "integer"
        },
        {
         "name": "invoice_id",
         "rawType": "int64",
         "type": "integer"
        },
        {
         "name": "Branch",
         "rawType": "object",
         "type": "string"
        },
        {
         "name": "City",
         "rawType": "object",
         "type": "string"
        },
        {
         "name": "category",
         "rawType": "object",
         "type": "string"
        },
        {
         "name": "unit_price",
         "rawType": "float64",
         "type": "float"
        },
        {
         "name": "quantity",
         "rawType": "float64",
         "type": "float"
        },
        {
         "name": "date",
         "rawType": "object",
         "type": "string"
        },
        {
         "name": "time",
         "rawType": "object",
         "type": "string"
        },
        {
         "name": "payment_method",
         "rawType": "object",
         "type": "string"
        },
        {
         "name": "rating",
         "rawType": "float64",
         "type": "float"
        },
        {
         "name": "profit_margin",
         "rawType": "float64",
         "type": "float"
        },
        {
         "name": "total",
         "rawType": "float64",
         "type": "float"
        }
       ],
       "conversionMethod": "pd.DataFrame",
       "ref": "b82f3d88-821b-414d-82d9-572005175f46",
       "rows": [
        [
         "0",
         "1",
         "WALM003",
         "San Antonio",
         "Health and beauty",
         "74.69",
         "7.0",
         "05/01/19",
         "13:08:00",
         "Ewallet",
         "9.1",
         "0.48",
         "522.8299999999999"
        ],
        [
         "1",
         "2",
         "WALM048",
         "Harlingen",
         "Electronic accessories",
         "15.28",
         "5.0",
         "08/03/19",
         "10:29:00",
         "Cash",
         "9.6",
         "0.48",
         "76.39999999999999"
        ],
        [
         "2",
         "3",
         "WALM067",
         "Haltom City",
         "Home and lifestyle",
         "46.33",
         "7.0",
         "03/03/19",
         "13:23:00",
         "Credit card",
         "7.4",
         "0.33",
         "324.31"
        ],
        [
         "3",
         "4",
         "WALM064",
         "Bedford",
         "Health and beauty",
         "58.22",
         "8.0",
         "27/01/19",
         "20:33:00",
         "Ewallet",
         "8.4",
         "0.33",
         "465.76"
        ],
        [
         "4",
         "5",
         "WALM013",
         "Irving",
         "Sports and travel",
         "86.31",
         "7.0",
         "08/02/19",
         "10:37:00",
         "Ewallet",
         "5.3",
         "0.48",
         "604.1700000000001"
        ]
       ],
       "shape": {
        "columns": 12,
        "rows": 5
       }
      },
      "text/html": [
       "<div>\n",
       "<style scoped>\n",
       "    .dataframe tbody tr th:only-of-type {\n",
       "        vertical-align: middle;\n",
       "    }\n",
       "\n",
       "    .dataframe tbody tr th {\n",
       "        vertical-align: top;\n",
       "    }\n",
       "\n",
       "    .dataframe thead th {\n",
       "        text-align: right;\n",
       "    }\n",
       "</style>\n",
       "<table border=\"1\" class=\"dataframe\">\n",
       "  <thead>\n",
       "    <tr style=\"text-align: right;\">\n",
       "      <th></th>\n",
       "      <th>invoice_id</th>\n",
       "      <th>Branch</th>\n",
       "      <th>City</th>\n",
       "      <th>category</th>\n",
       "      <th>unit_price</th>\n",
       "      <th>quantity</th>\n",
       "      <th>date</th>\n",
       "      <th>time</th>\n",
       "      <th>payment_method</th>\n",
       "      <th>rating</th>\n",
       "      <th>profit_margin</th>\n",
       "      <th>total</th>\n",
       "    </tr>\n",
       "  </thead>\n",
       "  <tbody>\n",
       "    <tr>\n",
       "      <th>0</th>\n",
       "      <td>1</td>\n",
       "      <td>WALM003</td>\n",
       "      <td>San Antonio</td>\n",
       "      <td>Health and beauty</td>\n",
       "      <td>74.69</td>\n",
       "      <td>7.0</td>\n",
       "      <td>05/01/19</td>\n",
       "      <td>13:08:00</td>\n",
       "      <td>Ewallet</td>\n",
       "      <td>9.1</td>\n",
       "      <td>0.48</td>\n",
       "      <td>522.83</td>\n",
       "    </tr>\n",
       "    <tr>\n",
       "      <th>1</th>\n",
       "      <td>2</td>\n",
       "      <td>WALM048</td>\n",
       "      <td>Harlingen</td>\n",
       "      <td>Electronic accessories</td>\n",
       "      <td>15.28</td>\n",
       "      <td>5.0</td>\n",
       "      <td>08/03/19</td>\n",
       "      <td>10:29:00</td>\n",
       "      <td>Cash</td>\n",
       "      <td>9.6</td>\n",
       "      <td>0.48</td>\n",
       "      <td>76.40</td>\n",
       "    </tr>\n",
       "    <tr>\n",
       "      <th>2</th>\n",
       "      <td>3</td>\n",
       "      <td>WALM067</td>\n",
       "      <td>Haltom City</td>\n",
       "      <td>Home and lifestyle</td>\n",
       "      <td>46.33</td>\n",
       "      <td>7.0</td>\n",
       "      <td>03/03/19</td>\n",
       "      <td>13:23:00</td>\n",
       "      <td>Credit card</td>\n",
       "      <td>7.4</td>\n",
       "      <td>0.33</td>\n",
       "      <td>324.31</td>\n",
       "    </tr>\n",
       "    <tr>\n",
       "      <th>3</th>\n",
       "      <td>4</td>\n",
       "      <td>WALM064</td>\n",
       "      <td>Bedford</td>\n",
       "      <td>Health and beauty</td>\n",
       "      <td>58.22</td>\n",
       "      <td>8.0</td>\n",
       "      <td>27/01/19</td>\n",
       "      <td>20:33:00</td>\n",
       "      <td>Ewallet</td>\n",
       "      <td>8.4</td>\n",
       "      <td>0.33</td>\n",
       "      <td>465.76</td>\n",
       "    </tr>\n",
       "    <tr>\n",
       "      <th>4</th>\n",
       "      <td>5</td>\n",
       "      <td>WALM013</td>\n",
       "      <td>Irving</td>\n",
       "      <td>Sports and travel</td>\n",
       "      <td>86.31</td>\n",
       "      <td>7.0</td>\n",
       "      <td>08/02/19</td>\n",
       "      <td>10:37:00</td>\n",
       "      <td>Ewallet</td>\n",
       "      <td>5.3</td>\n",
       "      <td>0.48</td>\n",
       "      <td>604.17</td>\n",
       "    </tr>\n",
       "  </tbody>\n",
       "</table>\n",
       "</div>"
      ],
      "text/plain": [
       "   invoice_id   Branch         City                category  unit_price  \\\n",
       "0           1  WALM003  San Antonio       Health and beauty       74.69   \n",
       "1           2  WALM048    Harlingen  Electronic accessories       15.28   \n",
       "2           3  WALM067  Haltom City      Home and lifestyle       46.33   \n",
       "3           4  WALM064      Bedford       Health and beauty       58.22   \n",
       "4           5  WALM013       Irving       Sports and travel       86.31   \n",
       "\n",
       "   quantity      date      time payment_method  rating  profit_margin   total  \n",
       "0       7.0  05/01/19  13:08:00        Ewallet     9.1           0.48  522.83  \n",
       "1       5.0  08/03/19  10:29:00           Cash     9.6           0.48   76.40  \n",
       "2       7.0  03/03/19  13:23:00    Credit card     7.4           0.33  324.31  \n",
       "3       8.0  27/01/19  20:33:00        Ewallet     8.4           0.33  465.76  \n",
       "4       7.0  08/02/19  10:37:00        Ewallet     5.3           0.48  604.17  "
      ]
     },
     "execution_count": 37,
     "metadata": {},
     "output_type": "execute_result"
    }
   ],
   "source": [
    "df.head()"
   ]
  },
  {
   "cell_type": "code",
   "execution_count": 38,
   "metadata": {},
   "outputs": [],
   "source": [
    "df.to_csv('wallmart_cleandata.csv', index=False)"
   ]
  },
  {
   "cell_type": "code",
   "execution_count": 39,
   "metadata": {},
   "outputs": [],
   "source": [
    "df.columns = df.columns.str.lower()"
   ]
  },
  {
   "cell_type": "code",
   "execution_count": null,
   "metadata": {},
   "outputs": [],
   "source": [
    "user = 'root'\n",
    "password= '****'\n",
    "host = 'localhost'\n",
    "port = '3306'\n",
    "database = 'wallmart_db'"
   ]
  },
  {
   "cell_type": "code",
   "execution_count": 41,
   "metadata": {},
   "outputs": [
    {
     "name": "stdout",
     "output_type": "stream",
     "text": [
      "Connected to DB\n"
     ]
    }
   ],
   "source": [
    "# engine = create_engine(f'mysql+mysqldb://{user}:{password}@{host}:{port}/{database}')\n",
    "# try:\n",
    "#     engine\n",
    "#     print('connected to db')\n",
    "# except:\n",
    "#     print('not connected')\n",
    "\n",
    "from sqlalchemy import create_engine\n",
    "\n",
    "engine = create_engine(f'mysql+pymysql://{user}:{password}@{host}:{port}/{database}')\n",
    "\n",
    "try:\n",
    "    # Try to connect\n",
    "    connection = engine.connect()\n",
    "    print('Connected to DB')\n",
    "    connection.close()  # Close the connection if successful\n",
    "except Exception as e:\n",
    "    print('Not connected')\n",
    "    print(f'Error: {e}')\n"
   ]
  },
  {
   "cell_type": "code",
   "execution_count": 42,
   "metadata": {},
   "outputs": [
    {
     "data": {
      "text/plain": [
       "9969"
      ]
     },
     "execution_count": 42,
     "metadata": {},
     "output_type": "execute_result"
    }
   ],
   "source": [
    "df.to_sql(name='wallmart', con=engine, if_exists= 'append', index=False)"
   ]
  },
  {
   "cell_type": "code",
   "execution_count": null,
   "metadata": {},
   "outputs": [],
   "source": []
  }
 ],
 "metadata": {
  "kernelspec": {
   "display_name": "python1st",
   "language": "python",
   "name": "python3"
  },
  "language_info": {
   "codemirror_mode": {
    "name": "ipython",
    "version": 3
   },
   "file_extension": ".py",
   "mimetype": "text/x-python",
   "name": "python",
   "nbconvert_exporter": "python",
   "pygments_lexer": "ipython3",
   "version": "3.12.3"
  }
 },
 "nbformat": 4,
 "nbformat_minor": 2
}
